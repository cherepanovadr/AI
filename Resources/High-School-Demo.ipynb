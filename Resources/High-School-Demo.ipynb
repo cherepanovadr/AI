{
 "cells": [
  {
   "cell_type": "markdown",
   "id": "180928ba-e669-4bce-8266-8148e54eab70",
   "metadata": {},
   "source": [
    "# High-School Maths\n",
    "## Live Demos\n",
    "\n",
    "Hello World! This is my first try at Markdowm"
   ]
  },
  {
   "cell_type": "code",
   "execution_count": 4,
   "id": "4530d8d7-0292-4dbb-aacd-013c576ba44b",
   "metadata": {
    "tags": []
   },
   "outputs": [
    {
     "name": "stdout",
     "output_type": "stream",
     "text": [
      "42\n"
     ]
    }
   ],
   "source": [
    "print(42)\n"
   ]
  },
  {
   "cell_type": "code",
   "execution_count": 12,
   "id": "7b8cf7c6-0093-4877-93a3-506e0a9f6385",
   "metadata": {
    "tags": []
   },
   "outputs": [],
   "source": [
    "def solve(a,b):\n",
    "    if a == 0:\n",
    "        return []\n",
    "    else:\n",
    "        return -b/a\n",
    "    "
   ]
  },
  {
   "cell_type": "code",
   "execution_count": 16,
   "id": "8f06ba94-8eb3-49eb-8ca0-65dc4726fcc3",
   "metadata": {
    "tags": []
   },
   "outputs": [
    {
     "data": {
      "text/plain": [
       "[]"
      ]
     },
     "execution_count": 16,
     "metadata": {},
     "output_type": "execute_result"
    }
   ],
   "source": [
    "solve(0,0)\n"
   ]
  },
  {
   "cell_type": "code",
   "execution_count": 18,
   "id": "34b8ac63-4035-41c4-bf3a-9c216c2b3868",
   "metadata": {
    "tags": []
   },
   "outputs": [
    {
     "data": {
      "text/plain": [
       "-1.0"
      ]
     },
     "execution_count": 18,
     "metadata": {},
     "output_type": "execute_result"
    }
   ],
   "source": [
    "solve(5,5)"
   ]
  },
  {
   "cell_type": "code",
   "execution_count": null,
   "id": "dc0c27fb-a70a-41a6-a3bf-bf70e659de86",
   "metadata": {},
   "outputs": [],
   "source": []
  }
 ],
 "metadata": {
  "kernelspec": {
   "display_name": "Python 3 (ipykernel)",
   "language": "python",
   "name": "python3"
  },
  "language_info": {
   "codemirror_mode": {
    "name": "ipython",
    "version": 3
   },
   "file_extension": ".py",
   "mimetype": "text/x-python",
   "name": "python",
   "nbconvert_exporter": "python",
   "pygments_lexer": "ipython3",
   "version": "3.11.7"
  }
 },
 "nbformat": 4,
 "nbformat_minor": 5
}
