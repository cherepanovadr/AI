{
 "cells": [
  {
   "cell_type": "markdown",
   "id": "180928ba-e669-4bce-8266-8148e54eab70",
   "metadata": {},
   "source": [
    "# High-School Maths\n",
    "## Live Demos\n",
    "\n",
    "Hello World! This is my first try at Markdowm"
   ]
  },
  {
   "cell_type": "code",
   "execution_count": 4,
   "id": "4530d8d7-0292-4dbb-aacd-013c576ba44b",
   "metadata": {
    "tags": []
   },
   "outputs": [
    {
     "name": "stdout",
     "output_type": "stream",
     "text": [
      "42\n"
     ]
    }
   ],
   "source": [
    "print(42)\n"
   ]
  },
  {
   "cell_type": "code",
   "execution_count": null,
   "id": "7b8cf7c6-0093-4877-93a3-506e0a9f6385",
   "metadata": {},
   "outputs": [],
   "source": []
  }
 ],
 "metadata": {
  "kernelspec": {
   "display_name": "Python 3 (ipykernel)",
   "language": "python",
   "name": "python3"
  },
  "language_info": {
   "codemirror_mode": {
    "name": "ipython",
    "version": 3
   },
   "file_extension": ".py",
   "mimetype": "text/x-python",
   "name": "python",
   "nbconvert_exporter": "python",
   "pygments_lexer": "ipython3",
   "version": "3.11.7"
  }
 },
 "nbformat": 4,
 "nbformat_minor": 5
}
